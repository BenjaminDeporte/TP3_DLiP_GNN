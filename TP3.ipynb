{
  "cells": [
    {
      "cell_type": "markdown",
      "metadata": {
        "id": "DCGS0JepBvpN"
      },
      "source": [
        "# TP 3  : Graph Neural Networks Architecture\n",
        "\n",
        "**Théo Rudkiewicz, Cyriaque Rousselot**"
      ]
    },
    {
      "cell_type": "markdown",
      "metadata": {
        "id": "ypiv21n1BvpO"
      },
      "source": [
        "# TUTORIAL"
      ]
    },
    {
      "cell_type": "markdown",
      "metadata": {
        "id": "C_gd0_2yBvpO"
      },
      "source": [
        "### Install Pytorch Geometric\n",
        "\n",
        "To handle graph data, we use the library Pytorch Geometric : https://pytorch-geometric.readthedocs.io/en/latest/\n",
        "\n",
        "*   If you use _Google Colab_, simply run the following cell to install Pytorch Geometric (**advised**).\n",
        "*   If you plan using your _own environment_, follow the documentation to install Pytorch Geometric : https://pytorch-geometric.readthedocs.io/en/latest/install/installation.html and skip the following cell."
      ]
    },
    {
      "cell_type": "code",
      "execution_count": 1,
      "metadata": {
        "colab": {
          "base_uri": "https://localhost:8080/"
        },
        "id": "2z2oyq9cBvpO",
        "outputId": "5f85251e-42d0-4b67-b551-7fe243d6cf5d"
      },
      "outputs": [
        {
          "name": "stdout",
          "output_type": "stream",
          "text": [
            "Looking in links: https://pytorch-geometric.com/whl/torch-2.5.1+cu124.html\n",
            "Requirement already satisfied: torch-scatter in /home/benjamin.deporte/.conda/envs/DLiP_GNN/lib/python3.10/site-packages (2.1.2+pt25cu124)\n",
            "Looking in links: https://pytorch-geometric.com/whl/torch-2.5.1+cu124.html\n",
            "Requirement already satisfied: torch-sparse in /home/benjamin.deporte/.conda/envs/DLiP_GNN/lib/python3.10/site-packages (0.6.18+pt25cu124)\n",
            "Requirement already satisfied: scipy in /home/benjamin.deporte/.conda/envs/DLiP_GNN/lib/python3.10/site-packages (from torch-sparse) (1.15.2)\n",
            "Requirement already satisfied: numpy<2.5,>=1.23.5 in /home/benjamin.deporte/.conda/envs/DLiP_GNN/lib/python3.10/site-packages (from scipy->torch-sparse) (1.26.4)\n",
            "Looking in links: https://pytorch-geometric.com/whl/torch-2.5.1+cu124.html\n",
            "Requirement already satisfied: torch-cluster in /home/benjamin.deporte/.conda/envs/DLiP_GNN/lib/python3.10/site-packages (1.6.3+pt25cu124)\n",
            "Requirement already satisfied: scipy in /home/benjamin.deporte/.conda/envs/DLiP_GNN/lib/python3.10/site-packages (from torch-cluster) (1.15.2)\n",
            "Requirement already satisfied: numpy<2.5,>=1.23.5 in /home/benjamin.deporte/.conda/envs/DLiP_GNN/lib/python3.10/site-packages (from scipy->torch-cluster) (1.26.4)\n",
            "Looking in links: https://pytorch-geometric.com/whl/torch-2.5.1+cu124.html\n",
            "Requirement already satisfied: torch-spline-conv in /home/benjamin.deporte/.conda/envs/DLiP_GNN/lib/python3.10/site-packages (1.2.2+pt25cu124)\n",
            "Requirement already satisfied: torch-geometric in /home/benjamin.deporte/.conda/envs/DLiP_GNN/lib/python3.10/site-packages (2.5.2)\n",
            "Requirement already satisfied: tqdm in /home/benjamin.deporte/.local/lib/python3.10/site-packages (from torch-geometric) (4.67.0)\n",
            "Requirement already satisfied: numpy in /home/benjamin.deporte/.conda/envs/DLiP_GNN/lib/python3.10/site-packages (from torch-geometric) (1.26.4)\n",
            "Requirement already satisfied: scipy in /home/benjamin.deporte/.conda/envs/DLiP_GNN/lib/python3.10/site-packages (from torch-geometric) (1.15.2)\n",
            "Requirement already satisfied: fsspec in /home/benjamin.deporte/.local/lib/python3.10/site-packages (from torch-geometric) (2024.10.0)\n",
            "Requirement already satisfied: jinja2 in /home/benjamin.deporte/.conda/envs/DLiP_GNN/lib/python3.10/site-packages (from torch-geometric) (3.1.6)\n",
            "Requirement already satisfied: aiohttp in /home/benjamin.deporte/.conda/envs/DLiP_GNN/lib/python3.10/site-packages (from torch-geometric) (3.11.13)\n",
            "Requirement already satisfied: requests in /home/benjamin.deporte/.conda/envs/DLiP_GNN/lib/python3.10/site-packages (from torch-geometric) (2.32.3)\n",
            "Requirement already satisfied: pyparsing in /home/benjamin.deporte/.conda/envs/DLiP_GNN/lib/python3.10/site-packages (from torch-geometric) (3.2.1)\n",
            "Requirement already satisfied: scikit-learn in /home/benjamin.deporte/.conda/envs/DLiP_GNN/lib/python3.10/site-packages (from torch-geometric) (1.6.1)\n",
            "Requirement already satisfied: psutil>=5.8.0 in /home/benjamin.deporte/.conda/envs/DLiP_GNN/lib/python3.10/site-packages (from torch-geometric) (7.0.0)\n",
            "Requirement already satisfied: aiohappyeyeballs>=2.3.0 in /home/benjamin.deporte/.conda/envs/DLiP_GNN/lib/python3.10/site-packages (from aiohttp->torch-geometric) (2.5.0)\n",
            "Requirement already satisfied: aiosignal>=1.1.2 in /home/benjamin.deporte/.conda/envs/DLiP_GNN/lib/python3.10/site-packages (from aiohttp->torch-geometric) (1.3.2)\n",
            "Requirement already satisfied: async-timeout<6.0,>=4.0 in /home/benjamin.deporte/.conda/envs/DLiP_GNN/lib/python3.10/site-packages (from aiohttp->torch-geometric) (5.0.1)\n",
            "Requirement already satisfied: attrs>=17.3.0 in /home/benjamin.deporte/.conda/envs/DLiP_GNN/lib/python3.10/site-packages (from aiohttp->torch-geometric) (25.1.0)\n",
            "Requirement already satisfied: frozenlist>=1.1.1 in /home/benjamin.deporte/.conda/envs/DLiP_GNN/lib/python3.10/site-packages (from aiohttp->torch-geometric) (1.5.0)\n",
            "Requirement already satisfied: multidict<7.0,>=4.5 in /home/benjamin.deporte/.conda/envs/DLiP_GNN/lib/python3.10/site-packages (from aiohttp->torch-geometric) (6.1.0)\n",
            "Requirement already satisfied: propcache>=0.2.0 in /home/benjamin.deporte/.conda/envs/DLiP_GNN/lib/python3.10/site-packages (from aiohttp->torch-geometric) (0.2.1)\n",
            "Requirement already satisfied: yarl<2.0,>=1.17.0 in /home/benjamin.deporte/.conda/envs/DLiP_GNN/lib/python3.10/site-packages (from aiohttp->torch-geometric) (1.18.3)\n",
            "Requirement already satisfied: MarkupSafe>=2.0 in /home/benjamin.deporte/.conda/envs/DLiP_GNN/lib/python3.10/site-packages (from jinja2->torch-geometric) (3.0.2)\n",
            "Requirement already satisfied: charset_normalizer<4,>=2 in /home/benjamin.deporte/.conda/envs/DLiP_GNN/lib/python3.10/site-packages (from requests->torch-geometric) (3.4.1)\n",
            "Requirement already satisfied: idna<4,>=2.5 in /home/benjamin.deporte/.conda/envs/DLiP_GNN/lib/python3.10/site-packages (from requests->torch-geometric) (3.10)\n",
            "Requirement already satisfied: urllib3<3,>=1.21.1 in /home/benjamin.deporte/.conda/envs/DLiP_GNN/lib/python3.10/site-packages (from requests->torch-geometric) (2.3.0)\n",
            "Requirement already satisfied: certifi>=2017.4.17 in /home/benjamin.deporte/.conda/envs/DLiP_GNN/lib/python3.10/site-packages (from requests->torch-geometric) (2025.1.31)\n",
            "Requirement already satisfied: joblib>=1.2.0 in /home/benjamin.deporte/.conda/envs/DLiP_GNN/lib/python3.10/site-packages (from scikit-learn->torch-geometric) (1.4.2)\n",
            "Requirement already satisfied: threadpoolctl>=3.1.0 in /home/benjamin.deporte/.conda/envs/DLiP_GNN/lib/python3.10/site-packages (from scikit-learn->torch-geometric) (3.5.0)\n",
            "Requirement already satisfied: typing-extensions>=4.1.0 in /home/benjamin.deporte/.local/lib/python3.10/site-packages (from multidict<7.0,>=4.5->aiohttp->torch-geometric) (4.12.2)\n"
          ]
        }
      ],
      "source": [
        "########## INSTALL TORCH GEOMETRIC ##################\n",
        "# https://pytorch-geometric.readthedocs.io/en/latest/\n",
        "#####################################################\n",
        "import torch\n",
        "\n",
        "\n",
        "def format_pytorch_version(version):\n",
        "    return version.split(\"+\")[0]\n",
        "\n",
        "\n",
        "TORCH_version = torch.__version__\n",
        "TORCH = format_pytorch_version(TORCH_version)\n",
        "\n",
        "\n",
        "def format_cuda_version(version):\n",
        "    return \"cu\" + version.replace(\".\", \"\")\n",
        "\n",
        "\n",
        "CUDA_version = torch.version.cuda\n",
        "CUDA = format_cuda_version(CUDA_version)\n",
        "\n",
        "!pip install torch-scatter     -f https://pytorch-geometric.com/whl/torch-{TORCH}+{CUDA}.html\n",
        "!pip install torch-sparse      -f https://pytorch-geometric.com/whl/torch-{TORCH}+{CUDA}.html\n",
        "!pip install torch-cluster     -f https://pytorch-geometric.com/whl/torch-{TORCH}+{CUDA}.html\n",
        "!pip install torch-spline-conv -f https://pytorch-geometric.com/whl/torch-{TORCH}+{CUDA}.html\n",
        "!pip install torch-geometric\n"
      ]
    },
    {
      "cell_type": "markdown",
      "metadata": {
        "id": "er22u4RLBvpP"
      },
      "source": [
        "### Import required packages\n",
        "\n",
        "Run the following cell to import all required packages. This cell **must not** be modified.\n",
        "\n",
        "To significantly accelerate your training, it is advised to use GPU. Using Google Colab, you need to activate it :\n",
        "\n",
        "*   Edit --> Notebook Setting --> Hardware accelerator --> GPU"
      ]
    },
    {
      "cell_type": "code",
      "execution_count": 2,
      "metadata": {
        "id": "yF6CMIsJBvpP"
      },
      "outputs": [],
      "source": [
        "#####################################################\n",
        "################## PACKAGES #########################\n",
        "#####################################################\n",
        "import numpy as np\n",
        "import matplotlib.pyplot as plt\n",
        "\n",
        "import torch.nn as nn\n",
        "import torch_geometric.nn as graphnn\n",
        "from sklearn.metrics import f1_score\n",
        "from torch_geometric.datasets import PPI\n",
        "from torch_geometric.loader import DataLoader"
      ]
    },
    {
      "cell_type": "markdown",
      "metadata": {
        "id": "x0U6I6M5BvpP"
      },
      "source": [
        "### Dataset\n",
        "\n",
        "We use the Protein-Protein Interaction (PPI) network dataset which includes:\n",
        "- 20 graphs for training\n",
        "- 2 graphs for validation\n",
        "- 2 graphs for testing\n",
        "\n",
        "One graph of the PPI dataset has on average 2372 nodes. Each node has:\n",
        "- 50 features : positional gene sets / motif gene / immunological signatures ...\n",
        "- 121 (binary) labels : gene ontology sets (way to classify gene products like proteins).\n",
        "\n",
        "**This problem aims to predict, for a given PPI graph, the correct nodes' labels**.\n",
        "\n",
        "**It is a node (multi-label) classification task** (trained using supervised learning, with labels to be predicted for each node).\n",
        "\n",
        "For your curiosity, more detailed information on the dataset and some applications:\n",
        "- https://cs.stanford.edu/~jure/pubs/pathways-psb18.pdf\n",
        "- https://arxiv.org/abs/1707.04638\n",
        "\n",
        "To understand how a graph data is implemented in Pytorch Geometric, refer to : https://pytorch-geometric.readthedocs.io/en/latest/get_started/introduction.html\n"
      ]
    },
    {
      "cell_type": "code",
      "execution_count": 3,
      "metadata": {
        "colab": {
          "base_uri": "https://localhost:8080/"
        },
        "id": "IK7hVnPCBvpP",
        "outputId": "21c47829-405c-4467-fa59-7e2f3bdc9ed5"
      },
      "outputs": [
        {
          "name": "stdout",
          "output_type": "stream",
          "text": [
            "Number of samples in the train dataset:  20\n",
            "Number of samples in the val dataset:  2\n",
            "Number of samples in the test dataset:  2\n",
            "Output of one sample from the train dataset:  Data(x=[1767, 50], edge_index=[2, 32318], y=[1767, 121])\n",
            "Edge_index :\n",
            "tensor([[   0,    0,    0,  ..., 1744, 1745, 1749],\n",
            "        [ 372, 1101,  766,  ..., 1745, 1744, 1739]])\n",
            "Number of features per node:  50\n",
            "Number of classes per node:  121\n"
          ]
        },
        {
          "name": "stderr",
          "output_type": "stream",
          "text": [
            "/home/benjamin.deporte/.conda/envs/DLiP_GNN/lib/python3.10/site-packages/torch_geometric/data/dataset.py:238: FutureWarning: You are using `torch.load` with `weights_only=False` (the current default value), which uses the default pickle module implicitly. It is possible to construct malicious pickle data which will execute arbitrary code during unpickling (See https://github.com/pytorch/pytorch/blob/main/SECURITY.md#untrusted-models for more details). In a future release, the default value for `weights_only` will be flipped to `True`. This limits the functions that could be executed during unpickling. Arbitrary objects will no longer be allowed to be loaded via this mode unless they are explicitly allowlisted by the user via `torch.serialization.add_safe_globals`. We recommend you start setting `weights_only=True` for any use case where you don't have full control of the loaded file. Please open an issue on GitHub for any issues related to this experimental feature.\n",
            "  if osp.exists(f) and torch.load(f) != _repr(self.pre_transform):\n",
            "/home/benjamin.deporte/.conda/envs/DLiP_GNN/lib/python3.10/site-packages/torch_geometric/data/dataset.py:246: FutureWarning: You are using `torch.load` with `weights_only=False` (the current default value), which uses the default pickle module implicitly. It is possible to construct malicious pickle data which will execute arbitrary code during unpickling (See https://github.com/pytorch/pytorch/blob/main/SECURITY.md#untrusted-models for more details). In a future release, the default value for `weights_only` will be flipped to `True`. This limits the functions that could be executed during unpickling. Arbitrary objects will no longer be allowed to be loaded via this mode unless they are explicitly allowlisted by the user via `torch.serialization.add_safe_globals`. We recommend you start setting `weights_only=True` for any use case where you don't have full control of the loaded file. Please open an issue on GitHub for any issues related to this experimental feature.\n",
            "  if osp.exists(f) and torch.load(f) != _repr(self.pre_filter):\n",
            "/home/benjamin.deporte/.conda/envs/DLiP_GNN/lib/python3.10/site-packages/torch_geometric/io/fs.py:215: FutureWarning: You are using `torch.load` with `weights_only=False` (the current default value), which uses the default pickle module implicitly. It is possible to construct malicious pickle data which will execute arbitrary code during unpickling (See https://github.com/pytorch/pytorch/blob/main/SECURITY.md#untrusted-models for more details). In a future release, the default value for `weights_only` will be flipped to `True`. This limits the functions that could be executed during unpickling. Arbitrary objects will no longer be allowed to be loaded via this mode unless they are explicitly allowlisted by the user via `torch.serialization.add_safe_globals`. We recommend you start setting `weights_only=True` for any use case where you don't have full control of the loaded file. Please open an issue on GitHub for any issues related to this experimental feature.\n",
            "  return torch.load(f, map_location)\n"
          ]
        }
      ],
      "source": [
        "### LOAD DATASETS\n",
        "\n",
        "BATCH_SIZE = 2\n",
        "\n",
        "# Train Dataset\n",
        "train_dataset = PPI(root=\"\", split=\"train\")\n",
        "train_dataloader = DataLoader(train_dataset, batch_size=BATCH_SIZE)\n",
        "# Val Dataset\n",
        "val_dataset = PPI(root=\"\", split=\"val\")\n",
        "val_dataloader = DataLoader(val_dataset, batch_size=BATCH_SIZE)\n",
        "# Test Dataset\n",
        "test_dataset = PPI(root=\"\", split=\"test\")\n",
        "test_dataloader = DataLoader(test_dataset, batch_size=BATCH_SIZE)\n",
        "\n",
        "# Number of features and classes\n",
        "n_features, n_classes = train_dataset[0].x.shape[1], train_dataset[0].y.shape[1]\n",
        "\n",
        "print(\"Number of samples in the train dataset: \", len(train_dataset))\n",
        "print(\"Number of samples in the val dataset: \", len(test_dataset))\n",
        "print(\"Number of samples in the test dataset: \", len(test_dataset))\n",
        "print(\"Output of one sample from the train dataset: \", train_dataset[0])\n",
        "print(\"Edge_index :\")\n",
        "print(train_dataset[0].edge_index)\n",
        "print(\"Number of features per node: \", n_features)\n",
        "print(\"Number of classes per node: \", n_classes)"
      ]
    },
    {
      "cell_type": "markdown",
      "metadata": {
        "id": "FG-IX602BvpQ"
      },
      "source": [
        "### Define a basic Model"
      ]
    },
    {
      "cell_type": "markdown",
      "metadata": {
        "id": "nDYsFpGjBvpQ"
      },
      "source": [
        "Here we define a very simple Graph Neural Network model which will be used as our baseline. This model consists of three graph convolutional layers (from https://arxiv.org/pdf/1609.02907.pdf). The first two layers computes 256 features, followed by an ELU activation function. The last layer is used for (multi-label) classification task, computing 121 features (for each node)."
      ]
    },
    {
      "cell_type": "code",
      "execution_count": 4,
      "metadata": {
        "id": "jmDvJMLkBvpQ"
      },
      "outputs": [],
      "source": [
        "#####################################################\n",
        "################## MODEL ############################\n",
        "#####################################################\n",
        "class BasicGraphModel(nn.Module):\n",
        "    def __init__(self, input_size, hidden_size, output_size):\n",
        "        super().__init__()\n",
        "\n",
        "        self.graphconv1 = graphnn.GCNConv(input_size, hidden_size)\n",
        "        self.graphconv2 = graphnn.GCNConv(hidden_size, hidden_size)\n",
        "        self.graphconv3 = graphnn.GCNConv(hidden_size, output_size)\n",
        "\n",
        "        self.elu = nn.ELU()\n",
        "\n",
        "    def forward(self, x, edge_index):\n",
        "        x = self.graphconv1(x, edge_index)\n",
        "        x = self.elu(x)\n",
        "        x = self.graphconv2(x, edge_index)\n",
        "        x = self.elu(x)\n",
        "        x = self.graphconv3(x, edge_index)\n",
        "\n",
        "        return x"
      ]
    },
    {
      "cell_type": "markdown",
      "metadata": {
        "id": "CFLMLSlJBvpQ"
      },
      "source": [
        "Next function is designed to evaluate the performance of the model, computing the F1-Score"
      ]
    },
    {
      "cell_type": "code",
      "execution_count": 5,
      "metadata": {
        "id": "f6mJgVM-BvpQ"
      },
      "outputs": [],
      "source": [
        "#####################################################\n",
        "############### TEST FUNCTION #######################\n",
        "#####################################################\n",
        "def evaluate(model, loss_fcn, device, dataloader):\n",
        "    score_list_batch = []\n",
        "\n",
        "    model.eval()\n",
        "    for i, batch in enumerate(dataloader):\n",
        "        batch = batch.to(device)\n",
        "        output = model(batch.x, batch.edge_index)\n",
        "        loss_test = loss_fcn(output, batch.y)\n",
        "        predict = np.where(output.detach().cpu().numpy() >= 0, 1, 0)\n",
        "        score = f1_score(batch.y.cpu().numpy(), predict, average=\"micro\")\n",
        "        score_list_batch.append(score)\n",
        "\n",
        "    return np.array(score_list_batch).mean()"
      ]
    },
    {
      "cell_type": "markdown",
      "metadata": {
        "id": "hbseDg0UBvpQ"
      },
      "source": [
        "Next we construct the function to train the model."
      ]
    },
    {
      "cell_type": "code",
      "execution_count": 6,
      "metadata": {
        "id": "oxlPpOqsBvpQ"
      },
      "outputs": [],
      "source": [
        "#####################################################\n",
        "############## TRAIN FUNCTION #######################\n",
        "#####################################################\n",
        "def train(model, loss_fcn, device, optimizer, max_epochs, train_dataloader, val_dataloader):\n",
        "    epoch_list = []\n",
        "    scores_list = []\n",
        "\n",
        "    # loop over epochs\n",
        "    for epoch in range(max_epochs):\n",
        "        model.train()\n",
        "        losses = []\n",
        "        # loop over batches\n",
        "        for i, train_batch in enumerate(train_dataloader):\n",
        "            optimizer.zero_grad()\n",
        "            train_batch_device = train_batch.to(device)\n",
        "            # logits is the output of the model\n",
        "            logits = model(train_batch_device.x, train_batch_device.edge_index)\n",
        "            # compute the loss\n",
        "            loss = loss_fcn(logits, train_batch_device.y)\n",
        "            # optimizer step\n",
        "            loss.backward()\n",
        "            optimizer.step()\n",
        "            losses.append(loss.item())\n",
        "        loss_data = np.array(losses).mean()\n",
        "        print(\"Epoch {:05d} | Loss: {:.4f}\".format(epoch + 1, loss_data))\n",
        "\n",
        "        if epoch % 5 == 0:\n",
        "            # evaluate the model on the validation set\n",
        "            # computes the f1-score (see next function)\n",
        "            score = evaluate(model, loss_fcn, device, val_dataloader)\n",
        "            print(\"F1-Score: {:.4f}\".format(score))\n",
        "            scores_list.append(score)\n",
        "            epoch_list.append(epoch)\n",
        "\n",
        "    return epoch_list, scores_list"
      ]
    },
    {
      "cell_type": "markdown",
      "metadata": {
        "id": "AhJYiT9oBvpR"
      },
      "source": [
        "Let's train this model !"
      ]
    },
    {
      "cell_type": "code",
      "execution_count": 7,
      "metadata": {
        "colab": {
          "base_uri": "https://localhost:8080/"
        },
        "id": "ed9vKv6KBvpR",
        "outputId": "725e9a97-3b3f-4cb9-8e80-cbd37a707dbb"
      },
      "outputs": [
        {
          "name": "stdout",
          "output_type": "stream",
          "text": [
            "\n",
            "Device:  cuda\n",
            "Epoch 00001 | Loss: 0.6387\n",
            "F1-Score: 0.4533\n",
            "Epoch 00002 | Loss: 0.5804\n",
            "Epoch 00003 | Loss: 0.5620\n",
            "Epoch 00004 | Loss: 0.5554\n",
            "Epoch 00005 | Loss: 0.5507\n",
            "Epoch 00006 | Loss: 0.5459\n",
            "F1-Score: 0.4931\n",
            "Epoch 00007 | Loss: 0.5416\n",
            "Epoch 00008 | Loss: 0.5374\n",
            "Epoch 00009 | Loss: 0.5342\n",
            "Epoch 00010 | Loss: 0.5316\n",
            "Epoch 00011 | Loss: 0.5290\n",
            "F1-Score: 0.5287\n",
            "Epoch 00012 | Loss: 0.5263\n",
            "Epoch 00013 | Loss: 0.5238\n",
            "Epoch 00014 | Loss: 0.5215\n",
            "Epoch 00015 | Loss: 0.5194\n",
            "Epoch 00016 | Loss: 0.5173\n",
            "F1-Score: 0.5171\n",
            "Epoch 00017 | Loss: 0.5151\n",
            "Epoch 00018 | Loss: 0.5129\n",
            "Epoch 00019 | Loss: 0.5103\n",
            "Epoch 00020 | Loss: 0.5077\n",
            "Epoch 00021 | Loss: 0.5055\n",
            "F1-Score: 0.5345\n",
            "Epoch 00022 | Loss: 0.5037\n",
            "Epoch 00023 | Loss: 0.5016\n",
            "Epoch 00024 | Loss: 0.4996\n",
            "Epoch 00025 | Loss: 0.4978\n",
            "Epoch 00026 | Loss: 0.4960\n",
            "F1-Score: 0.5498\n",
            "Epoch 00027 | Loss: 0.4941\n",
            "Epoch 00028 | Loss: 0.4922\n",
            "Epoch 00029 | Loss: 0.4906\n",
            "Epoch 00030 | Loss: 0.4892\n",
            "Epoch 00031 | Loss: 0.4879\n",
            "F1-Score: 0.5407\n",
            "Epoch 00032 | Loss: 0.4866\n",
            "Epoch 00033 | Loss: 0.4847\n",
            "Epoch 00034 | Loss: 0.4837\n",
            "Epoch 00035 | Loss: 0.4820\n",
            "Epoch 00036 | Loss: 0.4808\n",
            "F1-Score: 0.5474\n",
            "Epoch 00037 | Loss: 0.4785\n",
            "Epoch 00038 | Loss: 0.4761\n",
            "Epoch 00039 | Loss: 0.4746\n",
            "Epoch 00040 | Loss: 0.4733\n",
            "Epoch 00041 | Loss: 0.4721\n",
            "F1-Score: 0.5431\n",
            "Epoch 00042 | Loss: 0.4709\n",
            "Epoch 00043 | Loss: 0.4703\n",
            "Epoch 00044 | Loss: 0.4685\n",
            "Epoch 00045 | Loss: 0.4671\n",
            "Epoch 00046 | Loss: 0.4657\n",
            "F1-Score: 0.5600\n",
            "Epoch 00047 | Loss: 0.4649\n",
            "Epoch 00048 | Loss: 0.4644\n",
            "Epoch 00049 | Loss: 0.4634\n",
            "Epoch 00050 | Loss: 0.4624\n",
            "Epoch 00051 | Loss: 0.4616\n",
            "F1-Score: 0.5677\n",
            "Epoch 00052 | Loss: 0.4597\n",
            "Epoch 00053 | Loss: 0.4589\n",
            "Epoch 00054 | Loss: 0.4577\n",
            "Epoch 00055 | Loss: 0.4566\n",
            "Epoch 00056 | Loss: 0.4554\n",
            "F1-Score: 0.5727\n",
            "Epoch 00057 | Loss: 0.4549\n",
            "Epoch 00058 | Loss: 0.4534\n",
            "Epoch 00059 | Loss: 0.4532\n",
            "Epoch 00060 | Loss: 0.4526\n",
            "Epoch 00061 | Loss: 0.4514\n",
            "F1-Score: 0.5710\n",
            "Epoch 00062 | Loss: 0.4503\n",
            "Epoch 00063 | Loss: 0.4497\n",
            "Epoch 00064 | Loss: 0.4497\n",
            "Epoch 00065 | Loss: 0.4499\n",
            "Epoch 00066 | Loss: 0.4489\n",
            "F1-Score: 0.5769\n",
            "Epoch 00067 | Loss: 0.4489\n",
            "Epoch 00068 | Loss: 0.4470\n",
            "Epoch 00069 | Loss: 0.4456\n",
            "Epoch 00070 | Loss: 0.4449\n",
            "Epoch 00071 | Loss: 0.4448\n",
            "F1-Score: 0.5876\n",
            "Epoch 00072 | Loss: 0.4437\n",
            "Epoch 00073 | Loss: 0.4431\n",
            "Epoch 00074 | Loss: 0.4419\n",
            "Epoch 00075 | Loss: 0.4417\n",
            "Epoch 00076 | Loss: 0.4415\n",
            "F1-Score: 0.5710\n",
            "Epoch 00077 | Loss: 0.4412\n",
            "Epoch 00078 | Loss: 0.4404\n",
            "Epoch 00079 | Loss: 0.4395\n",
            "Epoch 00080 | Loss: 0.4397\n",
            "Epoch 00081 | Loss: 0.4378\n",
            "F1-Score: 0.5850\n",
            "Epoch 00082 | Loss: 0.4361\n",
            "Epoch 00083 | Loss: 0.4358\n",
            "Epoch 00084 | Loss: 0.4337\n",
            "Epoch 00085 | Loss: 0.4335\n",
            "Epoch 00086 | Loss: 0.4335\n",
            "F1-Score: 0.5737\n",
            "Epoch 00087 | Loss: 0.4327\n",
            "Epoch 00088 | Loss: 0.4315\n",
            "Epoch 00089 | Loss: 0.4317\n",
            "Epoch 00090 | Loss: 0.4317\n",
            "Epoch 00091 | Loss: 0.4320\n",
            "F1-Score: 0.5878\n",
            "Epoch 00092 | Loss: 0.4325\n",
            "Epoch 00093 | Loss: 0.4337\n",
            "Epoch 00094 | Loss: 0.4334\n",
            "Epoch 00095 | Loss: 0.4368\n",
            "Epoch 00096 | Loss: 0.4405\n",
            "F1-Score: 0.5863\n",
            "Epoch 00097 | Loss: 0.4386\n",
            "Epoch 00098 | Loss: 0.4381\n",
            "Epoch 00099 | Loss: 0.4373\n",
            "Epoch 00100 | Loss: 0.4344\n",
            "Epoch 00101 | Loss: 0.4326\n",
            "F1-Score: 0.5835\n",
            "Epoch 00102 | Loss: 0.4309\n",
            "Epoch 00103 | Loss: 0.4307\n",
            "Epoch 00104 | Loss: 0.4309\n",
            "Epoch 00105 | Loss: 0.4301\n",
            "Epoch 00106 | Loss: 0.4309\n",
            "F1-Score: 0.6094\n",
            "Epoch 00107 | Loss: 0.4317\n",
            "Epoch 00108 | Loss: 0.4300\n",
            "Epoch 00109 | Loss: 0.4299\n",
            "Epoch 00110 | Loss: 0.4291\n",
            "Epoch 00111 | Loss: 0.4288\n",
            "F1-Score: 0.6302\n",
            "Epoch 00112 | Loss: 0.4288\n",
            "Epoch 00113 | Loss: 0.4325\n",
            "Epoch 00114 | Loss: 0.4353\n",
            "Epoch 00115 | Loss: 0.4353\n",
            "Epoch 00116 | Loss: 0.4329\n",
            "F1-Score: 0.5796\n",
            "Epoch 00117 | Loss: 0.4316\n",
            "Epoch 00118 | Loss: 0.4312\n",
            "Epoch 00119 | Loss: 0.4303\n",
            "Epoch 00120 | Loss: 0.4271\n",
            "Epoch 00121 | Loss: 0.4245\n",
            "F1-Score: 0.6295\n",
            "Epoch 00122 | Loss: 0.4246\n",
            "Epoch 00123 | Loss: 0.4267\n",
            "Epoch 00124 | Loss: 0.4248\n",
            "Epoch 00125 | Loss: 0.4233\n",
            "Epoch 00126 | Loss: 0.4231\n",
            "F1-Score: 0.6278\n",
            "Epoch 00127 | Loss: 0.4225\n",
            "Epoch 00128 | Loss: 0.4220\n",
            "Epoch 00129 | Loss: 0.4219\n",
            "Epoch 00130 | Loss: 0.4201\n",
            "Epoch 00131 | Loss: 0.4190\n",
            "F1-Score: 0.6106\n",
            "Epoch 00132 | Loss: 0.4180\n",
            "Epoch 00133 | Loss: 0.4168\n",
            "Epoch 00134 | Loss: 0.4155\n",
            "Epoch 00135 | Loss: 0.4141\n",
            "Epoch 00136 | Loss: 0.4135\n",
            "F1-Score: 0.6177\n",
            "Epoch 00137 | Loss: 0.4135\n",
            "Epoch 00138 | Loss: 0.4132\n",
            "Epoch 00139 | Loss: 0.4130\n",
            "Epoch 00140 | Loss: 0.4125\n",
            "Epoch 00141 | Loss: 0.4126\n",
            "F1-Score: 0.6461\n",
            "Epoch 00142 | Loss: 0.4130\n",
            "Epoch 00143 | Loss: 0.4142\n",
            "Epoch 00144 | Loss: 0.4170\n",
            "Epoch 00145 | Loss: 0.4225\n",
            "Epoch 00146 | Loss: 0.4257\n",
            "F1-Score: 0.5690\n",
            "Epoch 00147 | Loss: 0.4257\n",
            "Epoch 00148 | Loss: 0.4254\n",
            "Epoch 00149 | Loss: 0.4253\n",
            "Epoch 00150 | Loss: 0.4205\n",
            "Epoch 00151 | Loss: 0.4169\n",
            "F1-Score: 0.6296\n",
            "Epoch 00152 | Loss: 0.4168\n",
            "Epoch 00153 | Loss: 0.4168\n",
            "Epoch 00154 | Loss: 0.4161\n",
            "Epoch 00155 | Loss: 0.4150\n",
            "Epoch 00156 | Loss: 0.4142\n",
            "F1-Score: 0.5966\n",
            "Epoch 00157 | Loss: 0.4129\n",
            "Epoch 00158 | Loss: 0.4126\n",
            "Epoch 00159 | Loss: 0.4135\n",
            "Epoch 00160 | Loss: 0.4138\n",
            "Epoch 00161 | Loss: 0.4142\n",
            "F1-Score: 0.6435\n",
            "Epoch 00162 | Loss: 0.4145\n",
            "Epoch 00163 | Loss: 0.4163\n",
            "Epoch 00164 | Loss: 0.4154\n",
            "Epoch 00165 | Loss: 0.4152\n",
            "Epoch 00166 | Loss: 0.4152\n",
            "F1-Score: 0.6484\n",
            "Epoch 00167 | Loss: 0.4152\n",
            "Epoch 00168 | Loss: 0.4142\n",
            "Epoch 00169 | Loss: 0.4159\n",
            "Epoch 00170 | Loss: 0.4140\n",
            "Epoch 00171 | Loss: 0.4117\n",
            "F1-Score: 0.6278\n",
            "Epoch 00172 | Loss: 0.4085\n",
            "Epoch 00173 | Loss: 0.4077\n",
            "Epoch 00174 | Loss: 0.4064\n",
            "Epoch 00175 | Loss: 0.4057\n",
            "Epoch 00176 | Loss: 0.4060\n",
            "F1-Score: 0.6259\n",
            "Epoch 00177 | Loss: 0.4085\n",
            "Epoch 00178 | Loss: 0.4085\n",
            "Epoch 00179 | Loss: 0.4090\n",
            "Epoch 00180 | Loss: 0.4107\n",
            "Epoch 00181 | Loss: 0.4109\n",
            "F1-Score: 0.6461\n",
            "Epoch 00182 | Loss: 0.4101\n",
            "Epoch 00183 | Loss: 0.4126\n",
            "Epoch 00184 | Loss: 0.4113\n",
            "Epoch 00185 | Loss: 0.4089\n",
            "Epoch 00186 | Loss: 0.4086\n",
            "F1-Score: 0.6455\n",
            "Epoch 00187 | Loss: 0.4070\n",
            "Epoch 00188 | Loss: 0.4043\n",
            "Epoch 00189 | Loss: 0.4031\n",
            "Epoch 00190 | Loss: 0.4023\n",
            "Epoch 00191 | Loss: 0.4011\n",
            "F1-Score: 0.6457\n",
            "Epoch 00192 | Loss: 0.4008\n",
            "Epoch 00193 | Loss: 0.4004\n",
            "Epoch 00194 | Loss: 0.4001\n",
            "Epoch 00195 | Loss: 0.4019\n",
            "Epoch 00196 | Loss: 0.4026\n",
            "F1-Score: 0.6195\n",
            "Epoch 00197 | Loss: 0.4031\n",
            "Epoch 00198 | Loss: 0.4059\n",
            "Epoch 00199 | Loss: 0.4061\n",
            "Epoch 00200 | Loss: 0.4066\n"
          ]
        }
      ],
      "source": [
        "### DEVICE GPU OR CPU : will select GPU if available\n",
        "device = torch.device(\"cuda\" if torch.cuda.is_available() else \"cpu\")\n",
        "print(\"\\nDevice: \", device)\n",
        "\n",
        "### Max number of epochs\n",
        "max_epochs = 200\n",
        "\n",
        "### DEFINE THE MODEL\n",
        "basic_model = BasicGraphModel(input_size=n_features, hidden_size=256, output_size=n_classes).to(\n",
        "    device\n",
        ")\n",
        "\n",
        "### DEFINE LOSS FUNCTION\n",
        "loss_fcn = nn.BCEWithLogitsLoss()\n",
        "\n",
        "### DEFINE OPTIMIZER\n",
        "optimizer = torch.optim.Adam(basic_model.parameters(), lr=0.005)\n",
        "\n",
        "### TRAIN THE MODEL\n",
        "epoch_list, basic_model_scores = train(\n",
        "    basic_model,\n",
        "    loss_fcn,\n",
        "    device,\n",
        "    optimizer,\n",
        "    max_epochs,\n",
        "    train_dataloader,\n",
        "    val_dataloader,\n",
        ")"
      ]
    },
    {
      "cell_type": "markdown",
      "metadata": {
        "id": "5hYMxt0NBvpR"
      },
      "source": [
        "Let's evaluate the performance of this basic model"
      ]
    },
    {
      "cell_type": "code",
      "execution_count": 8,
      "metadata": {
        "colab": {
          "base_uri": "https://localhost:8080/",
          "height": 486
        },
        "id": "W_pf40xxBvpR",
        "outputId": "005d412c-093e-46ca-a6e5-55e02c3042d9"
      },
      "outputs": [
        {
          "name": "stdout",
          "output_type": "stream",
          "text": [
            "Basic Model : F1-Score on the validation set: 0.6419\n"
          ]
        },
        {
          "data": {
            "image/png": "[encoded data removed]",
            "text/plain": [
              "<Figure size 1000x500 with 1 Axes>"
            ]
          },
          "metadata": {},
          "output_type": "display_data"
        }
      ],
      "source": [
        "### F1-SCORE ON VALID DATASET\n",
        "score_valid = evaluate(basic_model, loss_fcn, device, val_dataloader)\n",
        "print(\"Basic Model : F1-Score on the validation set: {:.4f}\".format(score_valid))\n",
        "\n",
        "\n",
        "### PLOT EVOLUTION OF F1-SCORE W.R.T EPOCHS\n",
        "def plot_f1_score(epoch_list, scores):\n",
        "    plt.figure(figsize=[10, 5])\n",
        "    plt.plot(epoch_list, scores)\n",
        "    plt.title(\"Evolution of F1-Score w.r.t epochs\")\n",
        "    plt.ylim([0.0, 1.0])\n",
        "    plt.show()\n",
        "\n",
        "\n",
        "plot_f1_score(epoch_list, basic_model_scores)"
      ]
    },
    {
      "cell_type": "markdown",
      "metadata": {
        "id": "ijuSkukWBvpR"
      },
      "source": [
        "# QUESTIONS\n",
        "\n",
        "## Grading\n",
        "\n",
        "You will be graded on 5 questions. You will need to provide at least 4 files :\n",
        "1. This Notebook\n",
        "2. `class_model_gnn.py`\n",
        "3. `model.pth` (the file **must be of size less than 50Mo** but 20Mo should be enough to get a very good model)\n",
        "4. `conv_as_message_passing.py`\n",
        "\n",
        "If the function you defined passes all the tests, you will get the full grade. Otherwise we  will look at the intermediate questions in the notebook to give you partial credit.\n",
        "\n",
        "\n",
        "\n",
        " Please provide clear, short and __bold font__ answers.  "
      ]
    },
    {
      "cell_type": "markdown",
      "metadata": {
        "id": "h1YH3k41BvpR"
      },
      "source": [
        "> Question 1 : Design, build and train a model with a F1-score higher than 93% on validation set (**HINT :** https://arxiv.org/pdf/1710.10903.pdf).\n"
      ]
    },
    {
      "cell_type": "markdown",
      "metadata": {
        "id": "Pxrxckp_BvpR"
      },
      "source": [
        " Provide two files : (https://pytorch.org/tutorials/beginner/saving_loading_models.html)\n",
        " -  a file  `class_model_gnn.py` containing the class inheriting from `torch.nn.Module` architecture of your final model to load\n",
        " -  a `model.pth` file : the model weights\n",
        "\n",
        " We will  test your model on final F1-Score on a test set. You must not use the test set for hyperparameter training.\n",
        "\n",
        "Intermediate question :\n",
        "\n",
        " Provide the script for training, and a plot of the training loss.  "
      ]
    },
    {
      "cell_type": "code",
      "execution_count": 9,
      "metadata": {
        "id": "6t6rSttzBvpR"
      },
      "outputs": [],
      "source": [
        "import torch\n",
        "import torch.nn as nn\n",
        "import torch.nn.functional as F\n",
        "\n",
        "\n",
        "# Define model ( in your class_model_gnn.py)\n",
        "\n",
        "# class Graph_Attention_Model(nn.Module):\n",
        "#     def __init__(self,input_size,hidden_size,n_features):\n",
        "#         super(Graph_Attention_Model, self).__init__()\n",
        "#         self.gat_1=graphnn.GATConv(input_size, hidden_size,4) #attention to get 1024 features, 4 attention heads\n",
        "#         self.gat_2=graphnn.GATConv(4*hidden_size, hidden_size,4) #attention to get 1024 features 4 attention heads\n",
        "#         self.gat_3=graphnn.GATConv(4*hidden_size,n_features,6,concat=False) # to get 121 features with 6 attention heads\n",
        "#         self.lin_1=nn.Linear(input_size,4*hidden_size)\n",
        "#         self.lin_2=nn.Linear(4*hidden_size,4*hidden_size)\n",
        "#         self.lin_3=nn.Linear(4*hidden_size,n_features)\n",
        "#         self.elu=nn.ELU()\n",
        "#         #Glorot init for each gat\n",
        "#         self.init_weights()\n",
        "\n",
        "#     def init_weights(self):\n",
        "#         for module in self.modules():\n",
        "#             if isinstance(module, graphnn.GATConv):\n",
        "#                 if hasattr(module, 'lin'):\n",
        "#                     nn.init.xavier_uniform_(module.lin.weight)\n",
        "#                     if module.lin.bias is not None:\n",
        "#                         nn.init.zeros_(module.lin.bias)\n",
        "#                 if hasattr(module, 'att'):\n",
        "#                     nn.init.xavier_uniform_(module.att)\n",
        "\n",
        "\n",
        "#     def forward(self, x, edge_index):\n",
        "#         x = F.elu(self.gat_1(x, edge_index) + self.lin_1(x))\n",
        "#         x = F.elu(self.gat_2(x, edge_index) + self.lin_2(x))\n",
        "#         x = self.gat_3(x, edge_index) + self.lin_3(x)\n",
        "#         return x\n",
        "\n",
        "# # Initialize model\n",
        "# from class_model_gnn import Graph_Attention_Model\n",
        "\n",
        "# model = Graph_Attention_Model(input_size=n_features, hidden_size=256, n_features=n_class).to(device)\n",
        "# ## Save the model\n",
        "# torch.save(model.state_dict(), \"model.pth\")\n",
        "\n",
        "# ### This is the part we will run in the inference to grade your model\n",
        "# ## Load the model\n",
        "# model = Graph_Attention_Model()  # !  Important : No argument\n",
        "# model.load_state_dict(torch.load(\"model.pth\", weights_only=True))\n",
        "# model.eval()\n",
        "# print(\"Model loaded successfully\")"
      ]
    },
    {
      "cell_type": "code",
      "execution_count": 10,
      "metadata": {
        "id": "AT2HZO6QEI6D"
      },
      "outputs": [],
      "source": [
        "#####################################################\n",
        "############### TEST FUNCTION #######################\n",
        "#####################################################\n",
        "def evaluate(model, loss_fcn, device, dataloader):\n",
        "    score_list_batch = []\n",
        "\n",
        "    model.eval()\n",
        "    for i, batch in enumerate(dataloader):\n",
        "        batch = batch.to(device)\n",
        "        output = model(batch.x, batch.edge_index)\n",
        "        loss_test = loss_fcn(output, batch.y)\n",
        "        predict = np.where(output.detach().cpu().numpy() >= 0, 1, 0)\n",
        "        score = f1_score(batch.y.cpu().numpy(), predict, average=\"micro\")\n",
        "        score_list_batch.append(score)\n",
        "\n",
        "    return np.array(score_list_batch).mean()"
      ]
    },
    {
      "cell_type": "code",
      "execution_count": 11,
      "metadata": {
        "id": "FvnEocpCHvom"
      },
      "outputs": [],
      "source": [
        "#####################################################\n",
        "############## TRAIN FUNCTION #######################\n",
        "#####################################################\n",
        "def train(model, loss_fcn, device, optimizer, max_epochs, train_dataloader, val_dataloader,patience):\n",
        "    epoch_list = []\n",
        "    scores_list = []\n",
        "    best_val_f1 = 0.0\n",
        "    patience_counter = 0\n",
        "\n",
        "    # loop over epochs\n",
        "    for epoch in range(max_epochs):\n",
        "        model.train()\n",
        "        losses = []\n",
        "        # loop over batches\n",
        "        for i, train_batch in enumerate(train_dataloader):\n",
        "            optimizer.zero_grad()\n",
        "            train_batch_device = train_batch.to(device)\n",
        "            # logits is the output of the model\n",
        "            outputs = model(train_batch_device.x, train_batch_device.edge_index)\n",
        "            # compute the loss\n",
        "            loss = loss_fcn(outputs, train_batch_device.y)\n",
        "            # optimizer step\n",
        "            loss.backward()\n",
        "            optimizer.step()\n",
        "            losses.append(loss.item())\n",
        "        loss_data = np.array(losses).mean()\n",
        "        print(\"Epoch {:05d} | Loss: {:.4f}\".format(epoch + 1, loss_data))\n",
        "\n",
        "        if epoch % 5 == 0:\n",
        "            # evaluate the model on the validation set\n",
        "            # computes the f1-score (see next function)\n",
        "            score = evaluate(model, loss_fcn, device, val_dataloader)\n",
        "            print(\"F1-Score: {:.4f}\".format(score))\n",
        "            if score > best_val_f1:\n",
        "                best_val_f1 = score\n",
        "                patience_counter = 0\n",
        "                torch.save(model.state_dict(), \"model.pth\")\n",
        "            else:\n",
        "                patience_counter += 1\n",
        "            scores_list.append(score)\n",
        "            epoch_list.append(epoch)\n",
        "            if patience_counter >= patience:\n",
        "                print(f\"Early stopping triggered at epoch {epoch+1}\")\n",
        "                break\n",
        "\n",
        "    return epoch_list, scores_list"
      ]
    },
    {
      "cell_type": "code",
      "execution_count": 12,
      "metadata": {
        "colab": {
          "base_uri": "https://localhost:8080/"
        },
        "id": "_dg0kNb1IZry",
        "outputId": "4e358837-dacd-4c6a-cfb8-62f59e84656d"
      },
      "outputs": [
        {
          "name": "stdout",
          "output_type": "stream",
          "text": [
            "\n",
            "Device:  cuda\n",
            "Epoch 00001 | Loss: 1.2055\n",
            "F1-Score: 0.4315\n",
            "Epoch 00002 | Loss: 0.6439\n",
            "Epoch 00003 | Loss: 0.5494\n",
            "Epoch 00004 | Loss: 0.5156\n",
            "Epoch 00005 | Loss: 0.4939\n",
            "Epoch 00006 | Loss: 0.4750\n",
            "F1-Score: 0.5528\n",
            "Epoch 00007 | Loss: 0.4571\n",
            "Epoch 00008 | Loss: 0.4380\n",
            "Epoch 00009 | Loss: 0.4176\n",
            "Epoch 00010 | Loss: 0.3969\n",
            "Epoch 00011 | Loss: 0.3789\n",
            "F1-Score: 0.6523\n",
            "Epoch 00012 | Loss: 0.3603\n",
            "Epoch 00013 | Loss: 0.3423\n",
            "Epoch 00014 | Loss: 0.3184\n",
            "Epoch 00015 | Loss: 0.2959\n",
            "Epoch 00016 | Loss: 0.2730\n",
            "F1-Score: 0.7890\n",
            "Epoch 00017 | Loss: 0.2488\n",
            "Epoch 00018 | Loss: 0.2288\n",
            "Epoch 00019 | Loss: 0.2099\n",
            "Epoch 00020 | Loss: 0.1954\n",
            "Epoch 00021 | Loss: 0.1820\n",
            "F1-Score: 0.8605\n",
            "Epoch 00022 | Loss: 0.1715\n",
            "Epoch 00023 | Loss: 0.1578\n",
            "Epoch 00024 | Loss: 0.1435\n",
            "Epoch 00025 | Loss: 0.1305\n",
            "Epoch 00026 | Loss: 0.1204\n",
            "F1-Score: 0.9073\n",
            "Epoch 00027 | Loss: 0.1117\n",
            "Epoch 00028 | Loss: 0.1039\n",
            "Epoch 00029 | Loss: 0.0991\n",
            "Epoch 00030 | Loss: 0.0939\n",
            "Epoch 00031 | Loss: 0.0899\n",
            "F1-Score: 0.9285\n",
            "Epoch 00032 | Loss: 0.0858\n",
            "Epoch 00033 | Loss: 0.0817\n",
            "Epoch 00034 | Loss: 0.0813\n",
            "Epoch 00035 | Loss: 0.0771\n",
            "Epoch 00036 | Loss: 0.0739\n",
            "F1-Score: 0.9395\n",
            "Epoch 00037 | Loss: 0.0664\n",
            "Epoch 00038 | Loss: 0.0611\n",
            "Epoch 00039 | Loss: 0.0570\n",
            "Epoch 00040 | Loss: 0.0552\n",
            "Epoch 00041 | Loss: 0.0522\n",
            "F1-Score: 0.9490\n",
            "Epoch 00042 | Loss: 0.0536\n",
            "Epoch 00043 | Loss: 0.0501\n",
            "Epoch 00044 | Loss: 0.0475\n",
            "Epoch 00045 | Loss: 0.0429\n",
            "Epoch 00046 | Loss: 0.0412\n",
            "F1-Score: 0.9547\n",
            "Epoch 00047 | Loss: 0.0428\n",
            "Epoch 00048 | Loss: 0.0466\n",
            "Epoch 00049 | Loss: 0.0507\n",
            "Epoch 00050 | Loss: 0.0577\n",
            "Epoch 00051 | Loss: 0.0561\n",
            "F1-Score: 0.9530\n",
            "Epoch 00052 | Loss: 0.0496\n",
            "Epoch 00053 | Loss: 0.0410\n",
            "Epoch 00054 | Loss: 0.0352\n",
            "Epoch 00055 | Loss: 0.0313\n",
            "Epoch 00056 | Loss: 0.0271\n",
            "F1-Score: 0.9650\n",
            "Epoch 00057 | Loss: 0.0250\n",
            "Epoch 00058 | Loss: 0.0233\n",
            "Epoch 00059 | Loss: 0.0219\n",
            "Epoch 00060 | Loss: 0.0216\n",
            "Epoch 00061 | Loss: 0.0209\n",
            "F1-Score: 0.9695\n",
            "Epoch 00062 | Loss: 0.0197\n",
            "Epoch 00063 | Loss: 0.0192\n",
            "Epoch 00064 | Loss: 0.0186\n",
            "Epoch 00065 | Loss: 0.0181\n",
            "Epoch 00066 | Loss: 0.0177\n",
            "F1-Score: 0.9701\n",
            "Epoch 00067 | Loss: 0.0173\n",
            "Epoch 00068 | Loss: 0.0171\n",
            "Epoch 00069 | Loss: 0.0171\n",
            "Epoch 00070 | Loss: 0.0165\n",
            "Epoch 00071 | Loss: 0.0165\n",
            "F1-Score: 0.9700\n",
            "Epoch 00072 | Loss: 0.0164\n",
            "Epoch 00073 | Loss: 0.0172\n",
            "Epoch 00074 | Loss: 0.0175\n",
            "Epoch 00075 | Loss: 0.0179\n",
            "Epoch 00076 | Loss: 0.0173\n",
            "F1-Score: 0.9707\n",
            "Epoch 00077 | Loss: 0.0177\n",
            "Epoch 00078 | Loss: 0.0169\n",
            "Epoch 00079 | Loss: 0.0156\n",
            "Epoch 00080 | Loss: 0.0148\n",
            "Epoch 00081 | Loss: 0.0144\n",
            "F1-Score: 0.9719\n",
            "Epoch 00082 | Loss: 0.0138\n",
            "Epoch 00083 | Loss: 0.0137\n",
            "Epoch 00084 | Loss: 0.0133\n",
            "Epoch 00085 | Loss: 0.0124\n",
            "Epoch 00086 | Loss: 0.0120\n",
            "F1-Score: 0.9756\n",
            "Epoch 00087 | Loss: 0.0119\n",
            "Epoch 00088 | Loss: 0.0118\n",
            "Epoch 00089 | Loss: 0.0119\n",
            "Epoch 00090 | Loss: 0.0117\n",
            "Epoch 00091 | Loss: 0.0122\n",
            "F1-Score: 0.9744\n",
            "Epoch 00092 | Loss: 0.0122\n",
            "Epoch 00093 | Loss: 0.0114\n",
            "Epoch 00094 | Loss: 0.0117\n",
            "Epoch 00095 | Loss: 0.0115\n",
            "Epoch 00096 | Loss: 0.0115\n",
            "F1-Score: 0.9743\n",
            "Epoch 00097 | Loss: 0.0114\n",
            "Epoch 00098 | Loss: 0.0114\n",
            "Epoch 00099 | Loss: 0.0112\n",
            "Epoch 00100 | Loss: 0.0113\n"
          ]
        }
      ],
      "source": [
        "from class_model_gnn import StudentModel\n",
        "\n",
        "### DEVICE GPU OR CPU : will select GPU if available\n",
        "device = torch.device(\"cuda\" if torch.cuda.is_available() else \"cpu\")\n",
        "print(\"\\nDevice: \", device)\n",
        "\n",
        "max_epochs = 100  # or any high value\n",
        "patience = 100     # number of epochs to wait before stopping if no improvement\n",
        "\n",
        "\n",
        "### DEFINE THE MODEL\n",
        "gat_model= StudentModel(input_size=n_features, hidden_size=256, n_features=n_classes).to(\n",
        "    device\n",
        ")\n",
        "### DEFINE LOSS FUNCTION\n",
        "loss_fcn = nn.BCEWithLogitsLoss() # applies the sigmoid from the paper\n",
        "\n",
        "### DEFINE OPTIMIZER\n",
        "optimizer = torch.optim.Adam(gat_model.parameters(), lr=0.005) # lr from the paper\n",
        "\n",
        "### TRAIN THE MODEL\n",
        "epoch_list, gat_model_scores = train(\n",
        "    gat_model,\n",
        "    loss_fcn,\n",
        "    device,\n",
        "    optimizer,\n",
        "    max_epochs,\n",
        "    train_dataloader,\n",
        "    val_dataloader,\n",
        "    patience\n",
        ")"
      ]
    },
    {
      "cell_type": "code",
      "execution_count": 13,
      "metadata": {},
      "outputs": [],
      "source": [
        "# save model\n",
        "torch.save(gat_model.state_dict(), \"model.pth\")"
      ]
    },
    {
      "cell_type": "code",
      "execution_count": 14,
      "metadata": {
        "colab": {
          "base_uri": "https://localhost:8080/",
          "height": 486
        },
        "id": "itrbbZ91H0GI",
        "outputId": "0649d2e1-ebb4-4463-e192-eb4355cc0a65"
      },
      "outputs": [
        {
          "name": "stdout",
          "output_type": "stream",
          "text": [
            "Basic Model : F1-Score on the validation set: 0.9747\n"
          ]
        },
        {
          "data": {
            "image/png": "[encoded data removed]",
            "text/plain": [
              "<Figure size 1000x500 with 1 Axes>"
            ]
          },
          "metadata": {},
          "output_type": "display_data"
        }
      ],
      "source": [
        "### F1-SCORE ON VALID DATASET\n",
        "score_valid = evaluate(gat_model, loss_fcn, device, val_dataloader)\n",
        "print(\"Basic Model : F1-Score on the validation set: {:.4f}\".format(score_valid))\n",
        "\n",
        "\n",
        "### PLOT EVOLUTION OF F1-SCORE W.R.T EPOCHS\n",
        "def plot_f1_score(epoch_list, scores):\n",
        "    plt.figure(figsize=[10, 5])\n",
        "    plt.plot(epoch_list, scores)\n",
        "    plt.title(\"Evolution of F1-Score w.r.t epochs\")\n",
        "    plt.ylim([0.0, 1.0])\n",
        "    plt.grid()\n",
        "    plt.show()\n",
        "\n",
        "plot_f1_score(epoch_list, gat_model_scores)"
      ]
    },
    {
      "cell_type": "markdown",
      "metadata": {
        "id": "wYr859EzBvpR"
      },
      "source": [
        "## Conv 2D as Message Passing Neural Network\n",
        "\n",
        "\n",
        "## Introduction\n",
        "\n",
        "The use of graph is a way to structure data by adding neighborhood information between features. This then allows to do operations on the data that are local to each node and its neighbors. This is the main idea behind Graph Neural Networks (GNNs). [`pytorch-geometric`](https://pytorch-geometric.readthedocs.io/en/latest/) is a library compatible with PyTorch that allows to easily implement GNNs. The most general structure is the [`MessagePassing`](https://pytorch-geometric.readthedocs.io/en/latest/generated/torch_geometric.nn.conv.MessagePassing.html#torch_geometric.nn.conv.MessagePassing) class that is then used as a base for more specific GNNs as seen in the course ([Graph Convolutional Networks](https://pytorch-geometric.readthedocs.io/en/latest/generated/torch_geometric.nn.conv.GCNConv.html#torch_geometric.nn.conv.GCNConv) or [Graph AttenTion Convolution](https://pytorch-geometric.readthedocs.io/en/latest/generated/torch_geometric.nn.conv.GATConv.html#torch_geometric.nn.conv.GATConv)).\n",
        "\n",
        "On the other hand, you already know an operation that uses the structure of the data to do local operations: the convolution (https://pytorch.org/docs/stable/generated/torch.nn.Conv2d.html). One can see the convolution as a specific case of the message passing neural network. The goal of this notebook is to show how to use the `MessagePassing` class to implement a convolutional neural network.\n",
        "You will be asked to implement 3 functions. You should give back those three functions in a file named `conv_as_message_passing.py`. These functions will then be automatically tested. So be sure to respect the function signature and the function name.\n",
        "\n",
        "\n",
        "## Assumptions\n",
        "\n",
        "To make the implementation easier we will make some assumptions:\n",
        "- the input is a single image (batch size of 1) of size 'C x H x W'\n",
        "- the convolution will be a 3x3 kernel with stride 1 and padding 1.\n",
        "\n",
        "You may also assume that the Conv2D layer has no bias but it will be slightly penalized in the grading.\n",
        "\n",
        "Bonus points will be given if you can handle the cases that are not covered by those assumptions.\n",
        "\n",
        "\n",
        "## Questions\n",
        "\n",
        "### Question 2\n",
        "\n",
        "> Using the formalism used in the [`MessagePassing`](https://pytorch-geometric.readthedocs.io/en/latest/generated/torch_geometric.nn.conv.MessagePassing.html#torch_geometric.nn.conv.MessagePassing) documentation (and on [wikipedia](https://en.wikipedia.org/wiki/Graph_neural_network#Message_passing_layers) with sligthly different notations), explain how theorically you can simulate a 2D convolution using the `MessagePassing` formalism. This may include a pre-processing step to transform the image into a graph and then a post-processing step to transform the graph back into an image. (:warning: Those steps should be independent of the parameters of the convolution, but not necessarily from the hyper-parameters.)\n",
        "$$\\mathbf{x}_{i}^{\\prime} = \\gamma_{\\mathbf{\\Theta}}\\left( \\mathbf{x}_{i},\\bigoplus\\limits_{j \\in \\mathcal{N}(i)}\\,\\phi_{\\mathbf{\\Theta}}\\left( \\mathbf{x}_{i},\\mathbf{x}_{j},\\mathbf{e}_{j,i} \\right) \\right),$$\n",
        "\n",
        "\n",
        "HINT : It is possible to do it with the following $\\gamma$ :\n",
        "\n",
        "$$ \\gamma_\\Theta : x,y \\mapsto y $$\n"
      ]
    },
    {
      "cell_type": "markdown",
      "metadata": {
        "id": "jkjIgrtURk6-"
      },
      "source": [
        "The idea is to see a standard 2D convolution as a specific case of message passing. When you usually do convolutions, for each pixel you compute a weighted sum over a fixed local neighborhood (e.g., a 3×3 patch). In the message passing formalism, this operation can be split into three steps:\n",
        "\n",
        "Pre-processing (Image to Graph):\n",
        "\n",
        "- Nodes: Each pixel becomes a node in the graph.\n",
        "- Edges: For every pixel i, you create edges from every neighboring pixel j within the convolution kernel (for a 3×3 kernel, this would be the 8 surrounding pixels; often a self-loop is added as well).\n",
        "Edge Attributes: The edge attribute $e_{ji}$ encodes the relative spatial offset of the neighbor j with respect to the central pixel i (for example, $(−1,−1)$ for the top-left neighbor).\n",
        "\n",
        "Let's decompose the message passing formula :\n",
        "\n",
        "$$\\mathbf{x}_{i}^{\\prime} = \\gamma_{\\mathbf{\\Theta}}\\left( \\mathbf{x}_{i},\\bigoplus\\limits_{j \\in \\mathcal{N}(i)}\\,\\phi_{\\mathbf{\\Theta}}\\left( \\mathbf{x}_{i},\\mathbf{x}_{j},\\mathbf{e}_{j,i} \\right) \\right),$$\n",
        "\n",
        "We need to design a message passing function $\\phi_{\\mathbf{\\Theta}}\\left( \\mathbf{x}_{i},\\mathbf{x}_{j},\\mathbf{e}_{j,i} \\right)$ that will multiply the neighbor’s $x_j$ feature by a weight corresponding to its relative position (extracted from the convolution kernel) wrt to the central point $x_i$. That is:\n",
        "\n",
        "$$ \\phi_{\\mathbf{\\Theta}}\\left( \\mathbf{x}_{i},\\mathbf{x}_{j},\\mathbf{e}_{ji} \\right) = w(e_{ji}) x_j$$\n",
        "\n",
        "where $w(e_{ji})$ is the kernel weight for the offset encoded in the edge feature $e_{ji}$​.\n",
        "\n",
        "The aggregation operation is the summation over all neighboring nodes, which is exactly what a convolution does when summing the weighted contributions.\n",
        "\n",
        "Taking the update function :\n",
        "\n",
        "$$ \\gamma_{\\mathbf{\\Theta}} (x,y) = y$$\n",
        "\n",
        "which means that after aggregating the messages, you directly output the result. This is exactly the convolution operation where the final value at a pixel is just the weighted sum over its receptive field.\n",
        "\n",
        "Finally the last step is a post processing step which is transforming the image back to the graph.\n",
        "Once the message passing layer has computed the new node features (which correspond to the convolved pixel values), a post-processing step reorganizes these node features back into the spatial grid of the original image."
      ]
    },
    {
      "cell_type": "code",
      "execution_count": 15,
      "metadata": {
        "id": "KJzBjJYEBvpR"
      },
      "outputs": [],
      "source": [
        "import torch\n",
        "import torch_geometric"
      ]
    },
    {
      "cell_type": "markdown",
      "metadata": {
        "id": "-_Y2heuiBvpR"
      },
      "source": [
        "### Question 3\n",
        "\n",
        "> Implement the pre-processing function, you can use the follwing code skeleton (you may change the output type, it is just a strong suggestion):"
      ]
    },
    {
      "cell_type": "code",
      "execution_count": 16,
      "metadata": {
        "id": "aKAYuWcqBvpR"
      },
      "outputs": [],
      "source": [
        "def image_to_graph(\n",
        "    image: torch.Tensor, conv2d: torch.nn.Conv2d | None = None\n",
        ") -> torch_geometric.data.Data:\n",
        "    \"\"\"\n",
        "    Converts an image tensor to a PyTorch Geometric Data object.\n",
        "\n",
        "    Each pixel becomes a node (with features from the image’s channels), and\n",
        "    an edge is added from a pixel to each of its 3x3 neighborhood pixels (if within bounds).\n",
        "    Additionally, the relative offset (di, dj) is stored as edge attributes.\n",
        "\n",
        "    Arguments:\n",
        "    ----------\n",
        "    image : torch.Tensor\n",
        "        Image tensor of shape (C, H, W).\n",
        "    conv2d : torch.nn.Conv2d, optional\n",
        "        Conv2d layer to simulate, by default None.\n",
        "        Its parameters (padding, kernel_size, stride) are used for consistency checks.\n",
        "\n",
        "    Returns:\n",
        "    --------\n",
        "    torch_geometric.data.Data\n",
        "        Graph representation of the image.\n",
        "    \"\"\"\n",
        "    # Assumptions (remove for bonus)\n",
        "    assert image.dim() == 3, f\"Expected 3D tensor, got {image.dim()}D tensor.\"\n",
        "    if conv2d is not None:\n",
        "        assert conv2d.padding[0] == conv2d.padding[1] == 1, \"Expected padding of 1 on both sides.\"\n",
        "        assert conv2d.kernel_size[0] == conv2d.kernel_size[1] == 3, \"Expected kernel size of 3x3.\"\n",
        "        assert conv2d.stride[0] == conv2d.stride[1] == 1, \"Expected stride of 1.\"\n",
        "\n",
        "    C, H, W = image.shape\n",
        "    # (C, H, W) to (H*W, C)\n",
        "    x = image.permute(1, 2, 0).reshape(-1, C)\n",
        "\n",
        "    edge_index_list = []\n",
        "    edge_attr_list = []\n",
        "    \n",
        "    # we create one \"padding node\" that will be used to link the border pixels to it.\n",
        "    # this generic padding node has null features, so it will not be involved in the\n",
        "    # kernel computation.\n",
        "    data_padding_node = torch.zeros((1, C))\n",
        "    id_padding_node = H * W  # linear index for the padding node, just after the last image pixel\n",
        "    x = torch.cat([x, data_padding_node], dim=0)  # add the padding node to the features    \n",
        "\n",
        "    # For each pixel at (i, j) (source node)\n",
        "    for i in range(H):\n",
        "        for j in range(W):\n",
        "            src = i * W + j  # linear index for the source node\n",
        "            # Loop over the 3x3\n",
        "            for di in [-1, 0, 1]:\n",
        "                ni = i + di\n",
        "                for dj in [-1, 0, 1]:\n",
        "                    nj = j + dj\n",
        "                    # checking where the neighboring pixel is:\n",
        "                    \n",
        "                    # ... first case : within bounds\n",
        "                    if 0 <= ni < H and 0 <= nj < W:\n",
        "                        dst = ni * W + nj  # linear index for the neighbor\n",
        "                    # ... second case : out of bounds, need padding\n",
        "                    else:\n",
        "                        dst = id_padding_node\n",
        "                        \n",
        "                    # add edge from neighbor to source\n",
        "                    edge_index_list.append([dst, src])\n",
        "                    # Save the relative offset as edge attribute,\n",
        "                    # will be used to find the right kernel weight\n",
        "                    edge_attr_list.append([di, dj])\n",
        "\n",
        "    # tensors\n",
        "    edge_index = torch.tensor(edge_index_list, dtype=torch.long).t().contiguous()  # shape: (2, num_edges)\n",
        "    edge_attr = torch.tensor(edge_attr_list, dtype=torch.float)  # shape: (num_edges, 2)\n",
        "\n",
        "    # Create and return the Data object\n",
        "    data = torch_geometric.data.Data(x=x, edge_index=edge_index, edge_attr=edge_attr)\n",
        "    return data"
      ]
    },
    {
      "cell_type": "markdown",
      "metadata": {
        "id": "-l7Tg9XABvpS"
      },
      "source": [
        "### Question 4\n",
        "\n",
        "> Implement the post-processing function, you can use the follwing code skeleton:"
      ]
    },
    {
      "cell_type": "code",
      "execution_count": 17,
      "metadata": {
        "id": "kbkgrWeYBvpS"
      },
      "outputs": [],
      "source": [
        "import torch\n",
        "from torch_geometric.data import Data\n",
        "\n",
        "def graph_to_image(\n",
        "    data: torch.Tensor, height: int, width: int, conv2d: torch.nn.Conv2d | None = None\n",
        ") -> torch.Tensor:\n",
        "    \"\"\"\n",
        "    Converts a graph representation of an image to an image tensor.\n",
        "\n",
        "    Assumes the graph node features 'data' is a 2D tensor of shape (H*W, C) where each row\n",
        "    corresponds to the features of a pixel.\n",
        "\n",
        "    Arguments:\n",
        "    ----------\n",
        "    data : torch.Tensor\n",
        "        Graph data representation of the image (node features), expected shape: (H*W, C).\n",
        "    height : int\n",
        "        Height of the image.\n",
        "    width : int\n",
        "        Width of the image.\n",
        "    conv2d : torch.nn.Conv2d, optional\n",
        "        Conv2d layer to simulate, by default None.\n",
        "        (Used only for consistency checks on padding, kernel_size, and stride.)\n",
        "\n",
        "    Returns:\n",
        "    --------\n",
        "    torch.Tensor\n",
        "        Image tensor of shape (C, H, W).\n",
        "    \"\"\"\n",
        "    # Assumptions (remove for bonus)\n",
        "    assert data.dim() == 2, f\"Expected 2D tensor, got {data.dim()}D tensor.\"\n",
        "    if conv2d is not None:\n",
        "        assert conv2d.padding[0] == conv2d.padding[1] == 1, \"Expected padding of 1 on both sides.\"\n",
        "        assert conv2d.kernel_size[0] == conv2d.kernel_size[1] == 3, \"Expected kernel size of 3x3.\"\n",
        "        assert conv2d.stride[0] == conv2d.stride[1] == 1, \"Expected stride of 1.\"\n",
        "\n",
        "    # channels\n",
        "    C = data.size(1)\n",
        "    # remove the padding node at the last position\n",
        "    data_without_padding = data[:-1]\n",
        "    # (H*W, C) to (H, W, C)\n",
        "    image = data_without_padding.view(height, width, C)\n",
        "    # Permute to (C, H, W) to get the original format\n",
        "    image = image.permute(2, 0, 1)\n",
        "    \n",
        "    return image"
      ]
    },
    {
      "cell_type": "markdown",
      "metadata": {
        "id": "n9Sko_enBvpS"
      },
      "source": [
        "#### Recommended test cases\n",
        "\n",
        "We **encourage** you to test that you have the property that the pre-processing function followed by the post-processing function is the identity function."
      ]
    },
    {
      "cell_type": "code",
      "execution_count": 18,
      "metadata": {
        "id": "IdwvqAazBvpS"
      },
      "outputs": [
        {
          "name": "stdout",
          "output_type": "stream",
          "text": [
            "The image of size 10 x 11 with 5 channels was encoded into a graph of 110 nodes plus one padding node : total torch.Size([111, 5]), each with features of dimension 5\n",
            "\n",
            "image = torch.Size([5, 10, 11])\n",
            "reconstructed_image = torch.Size([5, 10, 11])\n"
          ]
        }
      ],
      "source": [
        "C=5\n",
        "H=10\n",
        "W=11\n",
        "\n",
        "ref_conv = torch.nn.Conv2d(5, 7, kernel_size=3, padding=1, stride=1)\n",
        "image = torch.randn(5, 10, 11)\n",
        "g_image = image_to_graph(image, ref_conv)\n",
        "reconstructed_image = graph_to_image(g_image.x, 10, 11, ref_conv)\n",
        "assert torch.allclose(image, reconstructed_image)\n",
        "\n",
        "print(f\"The image of size {H} x {W} with {C} channels was encoded into a graph of {H*W} nodes plus one padding node : total {g_image.x.size()}, each with features of dimension {C}\")\n",
        "\n",
        "print(f\"\\nimage = {image.size()}\")\n",
        "print(f\"reconstructed_image = {reconstructed_image.size()}\")"
      ]
    },
    {
      "cell_type": "markdown",
      "metadata": {
        "id": "quBjOAgMBvpS"
      },
      "source": [
        "### Question 5\n",
        "\n",
        "> Implement the `Conv2dMessagePassing` class that will simulate a 2D convolution using the `MessagePassing` formalism.\n",
        "You should inherit from the `MessagePassing` class and only change the `__init__` and `message` functions (the `forward` function has already been changed for you). You should use the following code skeleton:"
      ]
    },
    {
      "cell_type": "code",
      "execution_count": 19,
      "metadata": {
        "id": "UUm4ywNlBvpS"
      },
      "outputs": [],
      "source": [
        "class Conv2dMessagePassing(torch_geometric.nn.MessagePassing):\n",
        "    \"\"\"\n",
        "    A Message Passing layer that simulates a given Conv2d layer.\n",
        "    \"\"\"\n",
        "\n",
        "    def __init__(self, conv2d: torch.nn.Conv2d):\n",
        "        # Don't forget to call the parent constructor with the correct aguments\n",
        "        # we need aggr='add' as we will be adding the messages along the node feature dimension\n",
        "        assert conv2d.bias is not None, \"Conv2d layer should have bias=True\"\n",
        "        \n",
        "        super(Conv2dMessagePassing, self).__init__(aggr='add')\n",
        "        # storing the kernel weights and bias\n",
        "        # the kernel weight is a tensor of shape (out_channels, in_channels, kernel_size[0], kernel_size[1])\n",
        "        # ... cad ici (out_channels, node_feature_dimension, 3, 3)\n",
        "        self.kernel_weights = conv2d.weight.data\n",
        "        # the bias is a tensor of shape (out_channels), mais n'existe que si conv2d a été instancié avec bias=True\n",
        "        self.bias = conv2d.bias.data  # shape (out_channels,)\n",
        "        self.bias = self.bias / (conv2d.kernel_size[0] * conv2d.kernel_size[1])  # correct the bias for the sum\n",
        "\n",
        "    def forward(self, data):\n",
        "        self.edge_index = data.edge_index\n",
        "\n",
        "        x, edge_index, edge_attr = data.x, data.edge_index, data.edge_attr\n",
        "        out = self.propagate(edge_index, x=x, edge_attr=edge_attr)\n",
        "        return out\n",
        "\n",
        "    def message(self, x_j: torch.Tensor, edge_attr: torch.Tensor) -> torch.Tensor:\n",
        "        \"\"\"\n",
        "        Computes the message to be passed for each edge.\n",
        "        For each edge e = (u, v) in the graph indexed by i,\n",
        "        the message through the edge e (ie from node u to node v)\n",
        "        should be returned as the i-th line of the output tensor.\n",
        "        (The message is phi(u, v, e) in the formalism.)\n",
        "        To do this you can access the features of the source node\n",
        "        in x_j[i] and the attributes of the edge in edge_attr[i].\n",
        "\n",
        "        Arguments:\n",
        "        ----------\n",
        "        x_j : torch.Tensor\n",
        "            The features of the souce node for each edge (of size E x in_channels).\n",
        "        edge_attr : torch.Tensor\n",
        "            The attributes of the edge (of size E x edge_attr_dim).\n",
        "\n",
        "        Returns:\n",
        "        --------\n",
        "        torch.Tensor\n",
        "            The message to be passed for each edge (of size E x out_channels ??)\n",
        "        \"\"\"\n",
        "        \n",
        "        # messages should be a tensor of size #edges x #channels_out\n",
        "        messages = torch.zeros(x_j.size(0), self.kernel_weights.size(0))\n",
        "        # loop over edges\n",
        "        for e in range(x_j.size(0)):         \n",
        "            # get the source node features\n",
        "            x = x_j[e]  # size (in_channels,)\n",
        "            # get the relative offset of the edge\n",
        "            di, dj = edge_attr[e] # values in [-1, 0, 1]\n",
        "            # compute indices to get the kernel weights\n",
        "            id_i = di + 1\n",
        "            id_i = id_i.int()\n",
        "            id_j = dj + 1\n",
        "            id_j = id_j.int()\n",
        "            # compute the message\n",
        "            # self.kernel_weights est de taille (out_channels, in_channels, kernel_size[0], kernel_size[1])\n",
        "            # x est de taille (in_channels,)\n",
        "            msg = torch.mul(self.kernel_weights[:, :, id_i, id_j], x) # output is of size (out_channels, in_channels)\n",
        "            # msg = msg + self.bias  # add the bias, output is of size(out_channels, in_channels)\n",
        "            msg = msg.sum(dim=1) # sum over the in_channels dimension, output is of size(out_channels,)\n",
        "            msg = msg + self.bias  # add the bias, output is of size(out_channels, in_channels). NB : the bias has been divided by the number of messages !\n",
        "            messages[e] = msg\n",
        "            \n",
        "        return messages"
      ]
    },
    {
      "cell_type": "markdown",
      "metadata": {
        "id": "8HqdfPInBvpS"
      },
      "source": [
        "## Test example"
      ]
    },
    {
      "cell_type": "code",
      "execution_count": 20,
      "metadata": {
        "id": "wO6RIo5mBvpS"
      },
      "outputs": [],
      "source": [
        "from conv_as_message_passing import image_to_graph, graph_to_image, Conv2dMessagePassing\n",
        "\n",
        "c = 5\n",
        "h = 10\n",
        "w = 11\n",
        "\n",
        "ref_conv = torch.nn.Conv2d(c, 2, kernel_size=3, padding=1, stride=1, bias=True)\n",
        "image = torch.randn(c, h, w)\n",
        "g_image = image_to_graph(image, ref_conv)\n",
        "ref_conv.weight.data = torch.randn_like(ref_conv.weight.data)\n",
        "\n",
        "conv_mp = Conv2dMessagePassing(ref_conv)\n",
        "g_image = conv_mp(g_image)\n",
        "\n",
        "y_th = ref_conv(image)\n",
        "\n",
        "ref_conv.weight.data = torch.randn_like(ref_conv.weight.data)\n",
        "reconstructed_image = graph_to_image(g_image, h, w, ref_conv)\n",
        "\n",
        "assert torch.allclose(y_th, reconstructed_image, atol=1e-4)"
      ]
    }
  ],
  "metadata": {
    "accelerator": "GPU",
    "colab": {
      "gpuType": "T4",
      "provenance": [],
      "toc_visible": true
    },
    "kernelspec": {
      "display_name": "DLiP_GNN",
      "language": "python",
      "name": "python3"
    },
    "kfiletag": "UUm2V0fruPYG",
    "language_info": {
      "codemirror_mode": {
        "name": "ipython",
        "version": 3
      },
      "file_extension": ".py",
      "mimetype": "text/x-python",
      "name": "python",
      "nbconvert_exporter": "python",
      "pygments_lexer": "ipython3",
      "version": "3.10.14"
    }
  },
  "nbformat": 4,
  "nbformat_minor": 0
}
